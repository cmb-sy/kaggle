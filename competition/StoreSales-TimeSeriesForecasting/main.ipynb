{
 "cells": [
  {
   "cell_type": "code",
   "execution_count": null,
   "id": "02d007f0",
   "metadata": {},
   "outputs": [],
   "source": [
    "エクアドルにある Favorita 店舗で販売されている何千もの製品フの売上を予測します。 トレーニング データには、日付、店舗と製品の情報、その商品がプロモーションされているかどうか、販売数が含まれます。 追加ファイルには、モデルの構築に役立つ補足情報が含まれています。"
   ]
  },
  {
   "cell_type": "code",
   "execution_count": 4,
   "id": "659a51fb",
   "metadata": {},
   "outputs": [],
   "source": [
    "import numpy as np\n",
    "import pandas as pd\n",
    "import seaborn as sns\n",
    "import matplotlib.pyplot as plt\n",
    "# Jupyter Notebook環境でのマジックコマン.グラフやプロットがNotebook上で直接表示。\n",
    "%matplotlib inline\n",
    "import warnings\n",
    "# プログラムが実行される際に発生する警告メッセージを無視\n",
    "warnings.filterwarnings('ignore')"
   ]
  },
  {
   "cell_type": "markdown",
   "id": "381c244d",
   "metadata": {},
   "source": [
    "# データの読み込み"
   ]
  },
  {
   "cell_type": "code",
   "execution_count": 5,
   "id": "d5712d63",
   "metadata": {},
   "outputs": [],
   "source": [
    "df_train = pd.read_csv('data/train.csv',usecols=['store_nbr', 'family', 'date', 'sales', 'onpromotion'],\n",
    "                       dtype={'store_nbr': 'category', 'family': 'category', 'sales': 'float64',},parse_dates=['date'],infer_datetime_format=True)\n",
    "\n",
    "df_test = pd.read_csv('data/test.csv')\n",
    "df_stores = pd.read_csv('data/stores.csv')\n",
    "df_oil = pd.read_csv('data/oil.csv')\n",
    "df_holidays = pd.read_csv('data/holidays_events.csv')\n",
    "df_transactions = pd.read_csv('data/transactions.csv')"
   ]
  },
  {
   "cell_type": "markdown",
   "id": "e87ff73d",
   "metadata": {},
   "source": [
    "# データの分析"
   ]
  },
  {
   "cell_type": "code",
   "execution_count": 7,
   "id": "956aae72",
   "metadata": {},
   "outputs": [
    {
     "name": "stdout",
     "output_type": "stream",
     "text": [
      "trainデータ\n",
      "<class 'pandas.core.frame.DataFrame'>\n",
      "RangeIndex: 3000888 entries, 0 to 3000887\n",
      "Data columns (total 5 columns):\n",
      " #   Column       Dtype         \n",
      "---  ------       -----         \n",
      " 0   date         datetime64[ns]\n",
      " 1   store_nbr    category      \n",
      " 2   family       category      \n",
      " 3   sales        float64       \n",
      " 4   onpromotion  int64         \n",
      "dtypes: category(2), datetime64[ns](1), float64(1), int64(1)\n",
      "memory usage: 74.4 MB\n",
      "None\n"
     ]
    }
   ],
   "source": [
    "print(\"trainデータ\")\n",
    "print(df_train.info())"
   ]
  },
  {
   "cell_type": "code",
   "execution_count": null,
   "id": "e74d5e12",
   "metadata": {},
   "outputs": [],
   "source": []
  }
 ],
 "metadata": {
  "kernelspec": {
   "display_name": "Python 3 (ipykernel)",
   "language": "python",
   "name": "python3"
  },
  "language_info": {
   "codemirror_mode": {
    "name": "ipython",
    "version": 3
   },
   "file_extension": ".py",
   "mimetype": "text/x-python",
   "name": "python",
   "nbconvert_exporter": "python",
   "pygments_lexer": "ipython3",
   "version": "3.11.4"
  }
 },
 "nbformat": 4,
 "nbformat_minor": 5
}
