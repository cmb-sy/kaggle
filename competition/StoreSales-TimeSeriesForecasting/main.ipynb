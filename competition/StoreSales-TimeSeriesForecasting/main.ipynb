{
 "cells": [
  {
   "cell_type": "markdown",
   "id": "2b57a5b0",
   "metadata": {},
   "source": [
    "# 概要\n",
    "エクアドルにある Favorita 店舗で販売されている何千もの製品フの売上を予測する。\n",
    "訓練データには、日付、店舗と製品の情報、その商品がプロモーションされているか、販売数が含まれる。\n",
    "追加ファイルには、モデルの構築に役立つ補足情報がある。"
   ]
  },
  {
   "cell_type": "code",
   "execution_count": 1,
   "id": "659a51fb",
   "metadata": {},
   "outputs": [],
   "source": [
    "import numpy as np\n",
    "import pandas as pd\n",
    "import seaborn as sns\n",
    "import matplotlib.pyplot as plt\n",
    "# Jupyter Notebook環境でのマジックコマン.グラフやプロットがNotebook上で直接表示。\n",
    "%matplotlib inline\n",
    "import warnings\n",
    "# プログラムが実行される際に発生する警告メッセージを無視\n",
    "warnings.filterwarnings('ignore')"
   ]
  },
  {
   "cell_type": "markdown",
   "id": "381c244d",
   "metadata": {},
   "source": [
    "# データの読み込み"
   ]
  },
  {
   "cell_type": "code",
   "execution_count": 2,
   "id": "d5712d63",
   "metadata": {},
   "outputs": [],
   "source": [
    "df_train = pd.read_csv('data/train.csv',usecols=['store_nbr', 'family', 'date', 'sales', 'onpromotion'],\n",
    "                       dtype={'store_nbr': 'category', 'family': 'category', 'sales': 'float64',},parse_dates=['date'],infer_datetime_format=True)\n",
    "df_test = pd.read_csv('data/test.csv')\n",
    "df_stores = pd.read_csv('data/stores.csv')\n",
    "df_oil = pd.read_csv('data/oil.csv')\n",
    "df_holidays = pd.read_csv('data/holidays_events.csv')\n",
    "df_transactions = pd.read_csv('data/transactions.csv')"
   ]
  },
  {
   "cell_type": "markdown",
   "id": "e87ff73d",
   "metadata": {},
   "source": [
    "# データの分析と加工"
   ]
  },
  {
   "cell_type": "code",
   "execution_count": 6,
   "id": "956aae72",
   "metadata": {},
   "outputs": [
    {
     "name": "stdout",
     "output_type": "stream",
     "text": [
      "Train Data:\n",
      "<class 'pandas.core.frame.DataFrame'>\n",
      "RangeIndex: 3000888 entries, 0 to 3000887\n",
      "Data columns (total 5 columns):\n",
      " #   Column       Dtype         \n",
      "---  ------       -----         \n",
      " 0   date         datetime64[ns]\n",
      " 1   store_nbr    category      \n",
      " 2   family       category      \n",
      " 3   sales        float64       \n",
      " 4   onpromotion  int64         \n",
      "dtypes: category(2), datetime64[ns](1), float64(1), int64(1)\n",
      "memory usage: 74.4 MB\n",
      "None\n",
      "\n",
      "Test Data:\n",
      "<class 'pandas.core.frame.DataFrame'>\n",
      "RangeIndex: 28512 entries, 0 to 28511\n",
      "Data columns (total 5 columns):\n",
      " #   Column       Non-Null Count  Dtype \n",
      "---  ------       --------------  ----- \n",
      " 0   id           28512 non-null  int64 \n",
      " 1   date         28512 non-null  object\n",
      " 2   store_nbr    28512 non-null  int64 \n",
      " 3   family       28512 non-null  object\n",
      " 4   onpromotion  28512 non-null  int64 \n",
      "dtypes: int64(3), object(2)\n",
      "memory usage: 1.1+ MB\n",
      "None\n",
      "\n",
      "Stores Data:\n",
      "<class 'pandas.core.frame.DataFrame'>\n",
      "RangeIndex: 54 entries, 0 to 53\n",
      "Data columns (total 5 columns):\n",
      " #   Column     Non-Null Count  Dtype \n",
      "---  ------     --------------  ----- \n",
      " 0   store_nbr  54 non-null     int64 \n",
      " 1   city       54 non-null     object\n",
      " 2   state      54 non-null     object\n",
      " 3   type       54 non-null     object\n",
      " 4   cluster    54 non-null     int64 \n",
      "dtypes: int64(2), object(3)\n",
      "memory usage: 2.2+ KB\n",
      "None\n",
      "\n",
      "Oil Data:\n",
      "<class 'pandas.core.frame.DataFrame'>\n",
      "RangeIndex: 1218 entries, 0 to 1217\n",
      "Data columns (total 2 columns):\n",
      " #   Column      Non-Null Count  Dtype  \n",
      "---  ------      --------------  -----  \n",
      " 0   date        1218 non-null   object \n",
      " 1   dcoilwtico  1175 non-null   float64\n",
      "dtypes: float64(1), object(1)\n",
      "memory usage: 19.2+ KB\n",
      "None\n",
      "\n",
      "Holidays Data:\n",
      "<class 'pandas.core.frame.DataFrame'>\n",
      "RangeIndex: 350 entries, 0 to 349\n",
      "Data columns (total 6 columns):\n",
      " #   Column       Non-Null Count  Dtype \n",
      "---  ------       --------------  ----- \n",
      " 0   date         350 non-null    object\n",
      " 1   type         350 non-null    object\n",
      " 2   locale       350 non-null    object\n",
      " 3   locale_name  350 non-null    object\n",
      " 4   description  350 non-null    object\n",
      " 5   transferred  350 non-null    bool  \n",
      "dtypes: bool(1), object(5)\n",
      "memory usage: 14.1+ KB\n",
      "None\n",
      "\n",
      "Transactions Data:\n",
      "<class 'pandas.core.frame.DataFrame'>\n",
      "RangeIndex: 83488 entries, 0 to 83487\n",
      "Data columns (total 3 columns):\n",
      " #   Column        Non-Null Count  Dtype \n",
      "---  ------        --------------  ----- \n",
      " 0   date          83488 non-null  object\n",
      " 1   store_nbr     83488 non-null  int64 \n",
      " 2   transactions  83488 non-null  int64 \n",
      "dtypes: int64(2), object(1)\n",
      "memory usage: 1.9+ MB\n",
      "None\n"
     ]
    }
   ],
   "source": [
    "\n",
    "print(\"Train Data:\")\n",
    "print(df_train.info())\n",
    "print(\"\\nTest Data:\")\n",
    "print(df_test.info())\n",
    "print(\"\\nStores Data:\")\n",
    "print(df_stores.info())\n",
    "print(\"\\nOil Data:\")\n",
    "print(df_oil.info())\n",
    "print(\"\\nHolidays Data:\")\n",
    "print(df_holidays.info())\n",
    "print(\"\\nTransactions Data:\")\n",
    "print(df_transactions.info())"
   ]
  },
  {
   "cell_type": "markdown",
   "id": "b1c86f26",
   "metadata": {},
   "source": [
    "データの結合とidの削除"
   ]
  },
  {
   "cell_type": "code",
   "execution_count": 10,
   "id": "e74d5e12",
   "metadata": {},
   "outputs": [
    {
     "name": "stdout",
     "output_type": "stream",
     "text": [
      "(3029400, 5)\n",
      "Index(['date', 'store_nbr', 'family', 'sales', 'onpromotion'], dtype='object')\n"
     ]
    }
   ],
   "source": [
    "df = pd.concat([df_train, df_test])\n",
    "df.drop(columns='id', inplace=True) # inplace=Trueで元のdfを上書きしてしまう。\n",
    "\n",
    "print(df.shape)\n",
    "print(df.columns)"
   ]
  },
  {
   "cell_type": "markdown",
   "id": "3c2b22eb",
   "metadata": {},
   "source": [
    "結合後のデータを確認する。"
   ]
  },
  {
   "cell_type": "code",
   "execution_count": 18,
   "id": "1a6b8aae",
   "metadata": {},
   "outputs": [
    {
     "name": "stdout",
     "output_type": "stream",
     "text": [
      "統計データ               sales   onpromotion\n",
      "count  3.000888e+06  3.029400e+06\n",
      "mean   3.577757e+02  2.643830e+00\n",
      "std    1.101998e+03  1.233287e+01\n",
      "min    0.000000e+00  0.000000e+00\n",
      "25%    0.000000e+00  0.000000e+00\n",
      "50%    1.100000e+01  0.000000e+00\n",
      "75%    1.958473e+02  0.000000e+00\n",
      "max    1.247170e+05  7.410000e+02\n",
      "\n",
      "nullの確認 date               0\n",
      "store_nbr          0\n",
      "family             0\n",
      "sales          28512\n",
      "onpromotion        0\n",
      "dtype: int64\n",
      "\n",
      "<class 'pandas.core.frame.DataFrame'>\n",
      "Int64Index: 3029400 entries, 0 to 28511\n",
      "Data columns (total 5 columns):\n",
      " #   Column       Dtype  \n",
      "---  ------       -----  \n",
      " 0   date         object \n",
      " 1   store_nbr    object \n",
      " 2   family       object \n",
      " 3   sales        float64\n",
      " 4   onpromotion  int64  \n",
      "dtypes: float64(1), int64(1), object(3)\n",
      "memory usage: 138.7+ MB\n",
      "概要 None\n"
     ]
    }
   ],
   "source": [
    "print(\"統計データ\", df.describe())\n",
    "print()\n",
    "print(\"nullの確認\", df.isnull().sum())\n",
    "print()\n",
    "print(\"概要\", df.info())"
   ]
  },
  {
   "cell_type": "markdown",
   "id": "bc3a74e3",
   "metadata": {},
   "source": [
    "dateデータをdatetimeオブジェクトへ変換。\n",
    "カテゴリカルデータのユニークな値数を取得。"
   ]
  },
  {
   "cell_type": "code",
   "execution_count": 20,
   "id": "d3e2cdd2",
   "metadata": {},
   "outputs": [
    {
     "name": "stdout",
     "output_type": "stream",
     "text": [
      "Unique values in store_nbr: 108\n",
      "Unique values in family: 33\n"
     ]
    }
   ],
   "source": [
    "# 'date' 列をdatetimeオブジェクトへ変換。（日時を扱いやすくする）\n",
    "df['date'] = pd.to_datetime(df['date'])\n",
    "\n",
    "# カテゴリデータのユニーク数を表示\n",
    "for col in ['store_nbr', 'family']:\n",
    "    print(f\"Unique values in {col}: {df[col].nunique()}\")"
   ]
  },
  {
   "cell_type": "markdown",
   "id": "1b3f107f",
   "metadata": {},
   "source": [
    "日付データの分解"
   ]
  },
  {
   "cell_type": "code",
   "execution_count": 23,
   "id": "c722e443",
   "metadata": {},
   "outputs": [],
   "source": [
    "df['year'] = df['date'].dt.year\n",
    "df['month'] = df['date'].dt.month\n",
    "df['day'] = df['date'].dt.day\n",
    "df['week'] = df['date'].dt.day_of_week\n",
    "# isinでTrueかFalseを返し、astypeで0,1へ変換する。1が土日に該当する。\n",
    "df['weekend'] = df['week'].isin([5, 6]).astype(int)\n"
   ]
  },
  {
   "cell_type": "code",
   "execution_count": 28,
   "id": "f4bdb25d",
   "metadata": {},
   "outputs": [
    {
     "data": {
      "text/plain": [
       "count    3.029400e+06\n",
       "mean     2.852941e-01\n",
       "std      4.515545e-01\n",
       "min      0.000000e+00\n",
       "25%      0.000000e+00\n",
       "50%      0.000000e+00\n",
       "75%      1.000000e+00\n",
       "max      1.000000e+00\n",
       "Name: weekend, dtype: float64"
      ]
     },
     "execution_count": 28,
     "metadata": {},
     "output_type": "execute_result"
    }
   ],
   "source": []
  },
  {
   "cell_type": "code",
   "execution_count": null,
   "id": "9ab9f351",
   "metadata": {},
   "outputs": [],
   "source": []
  }
 ],
 "metadata": {
  "kernelspec": {
   "display_name": "Python 3 (ipykernel)",
   "language": "python",
   "name": "python3"
  },
  "language_info": {
   "codemirror_mode": {
    "name": "ipython",
    "version": 3
   },
   "file_extension": ".py",
   "mimetype": "text/x-python",
   "name": "python",
   "nbconvert_exporter": "python",
   "pygments_lexer": "ipython3",
   "version": "3.11.4"
  }
 },
 "nbformat": 4,
 "nbformat_minor": 5
}
